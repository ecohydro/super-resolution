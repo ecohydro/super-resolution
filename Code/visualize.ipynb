{
 "cells": [
  {
   "cell_type": "markdown",
   "metadata": {},
   "source": [
    "# Different visualization scripts\n",
    "\n",
    "To run a juupyter notebook in R use the R jupyter kernel\n",
    "Anna Boser 2022"
   ]
  },
  {
   "cell_type": "code",
   "execution_count": null,
   "metadata": {
    "vscode": {
     "languageId": "r"
    }
   },
   "outputs": [
    {
     "ename": "",
     "evalue": "",
     "output_type": "error",
     "traceback": [
      "\u001b[1;31mFailed to start the Kernel. \n",
      "/home/annaboser/anaconda3/lib/R/bin/exec/R: error while loading shared libraries: libreadline.so.6: cannot open shared object file: No such file or directory. \n",
      "View Jupyter <a href='command:jupyter.viewOutput'>log</a> for further details."
     ]
    }
   ],
   "source": [
    "library(raster)\n",
    "library(dplyr)\n",
    "library(here)"
   ]
  },
  {
   "cell_type": "markdown",
   "metadata": {},
   "source": [
    "## Visualize runs and tiles before they are turned into inputs and outputs"
   ]
  },
  {
   "cell_type": "code",
   "execution_count": null,
   "metadata": {
    "vscode": {
     "languageId": "r"
    }
   },
   "outputs": [
    {
     "ename": "SyntaxError",
     "evalue": "invalid syntax (<ipython-input-2-aab2ddcdd03f>, line 18)",
     "output_type": "error",
     "traceback": [
      "\u001b[0;36m  File \u001b[0;32m\"<ipython-input-2-aab2ddcdd03f>\"\u001b[0;36m, line \u001b[0;32m18\u001b[0m\n\u001b[0;31m    plot(lst %>% aggregate(agg_out), col = pal(50), zlim = c(273, 290))\u001b[0m\n\u001b[0m              ^\u001b[0m\n\u001b[0;31mSyntaxError\u001b[0m\u001b[0;31m:\u001b[0m invalid syntax\n"
     ]
    }
   ],
   "source": [
    "lst_tiles = list.files(here(\"Data\", \"Tiles\", \"LST\"))\n",
    "lst_path = lst_tiles[1]\n",
    "rgb_tiles = list.files(here(\"Data\", \"Tiles\", \"RGB\"))\n",
    "rgb_path = rgb_tiles[1]\n",
    "\n",
    "agg_in <- 14\n",
    "agg_out <- 2\n",
    "\n",
    "# load and aggregate to 10m\n",
    "lst <- raster(lst_path)\n",
    "rgb <- brick(rgb_path)\n",
    "\n",
    "pal <- colorRampPalette(c(\"darkblue\", \"blue\", \"steelblue1\", \"white\", \"yellow\", \"orange\", \"red\"))\n",
    "plot(lst %>% aggregate(agg_out), col = pal(50), zlim = c(273, 290))\n",
    "#plot(lst %>% aggregate(agg_in), col = pal(50), zlim = c(273, 290))\n",
    "\n",
    "# change lst to simialr values as rgb\n",
    "lst <- lst-225\n",
    "\n",
    "tgb <- brick(lst, rgb[[1]], rgb[[1]])\n",
    "\n",
    "plotRGB(rgb %>% aggregate(agg_out))\n",
    "#plotRGB(tgb %>% aggregate(agg_out))\n"
   ]
  },
  {
   "cell_type": "markdown",
   "metadata": {},
   "source": [
    "# Visualize inputs and outputs"
   ]
  },
  {
   "cell_type": "code",
   "execution_count": null,
   "metadata": {
    "vscode": {
     "languageId": "r"
    }
   },
   "outputs": [],
   "source": [
    "in_lst_tiles = list.files(here(\"Data\", \"Tiles\", \"LST\"))\n",
    "in_lst_path = in_lst_tiles[1]\n",
    "out_lst_tiles = list.files(here(\"Data\", \"Tiles\", \"LST\"))\n",
    "out_lst_path = out_lst_tiles[1]\n",
    "rgb_tiles = list.files(here(\"Data\", \"Tiles\", \"RGB\"))\n",
    "rgb_path = rgb_tiles[1]\n",
    "\n",
    "agg_in <- 14\n",
    "agg_out <- 2\n",
    "\n",
    "# load and aggregate to 10m\n",
    "lst <- raster(lst_path)\n",
    "rgb <- brick(rgb_path)\n",
    "\n",
    "pal <- colorRampPalette(c(\"darkblue\", \"blue\", \"steelblue1\", \"white\", \"yellow\", \"orange\", \"red\"))\n",
    "plot(lst %>% aggregate(agg_out), col = pal(50), zlim = c(273, 290))\n",
    "#plot(lst %>% aggregate(agg_in), col = pal(50), zlim = c(273, 290))\n",
    "\n",
    "# change lst to simialr values as rgb\n",
    "lst <- lst-225\n",
    "\n",
    "tgb <- brick(lst, rgb[[1]], rgb[[1]])\n",
    "\n",
    "plotRGB(rgb %>% aggregate(agg_out))\n",
    "#plotRGB(tgb %>% aggregate(agg_out))"
   ]
  }
 ],
 "metadata": {
  "kernelspec": {
   "display_name": "R",
   "language": "R",
   "name": "ir"
  },
  "language_info": {
   "codemirror_mode": "r",
   "file_extension": ".r",
   "mimetype": "text/x-r-source",
   "name": "R",
   "pygments_lexer": "r",
   "version": "3.6.1"
  },
  "orig_nbformat": 4,
  "vscode": {
   "interpreter": {
    "hash": "238246749f0f6368d95ae2c31007c0efa0b7d98a64fd0149da520bbd102b15fc"
   }
  }
 },
 "nbformat": 4,
 "nbformat_minor": 2
}
